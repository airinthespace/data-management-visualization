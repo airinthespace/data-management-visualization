{
 "cells": [
  {
   "cell_type": "markdown",
   "metadata": {},
   "source": [
    "# Assignment week 2 (formative)\n",
    "\n",
    "## Python and NumPy data structures"
   ]
  },
  {
   "cell_type": "markdown",
   "metadata": {},
   "source": [
    "Q1. Read in the document 'Restaurant.txt' to a Python notebook and create a dictionary with a count of every word. What are the three most frequently occuring words?"
   ]
  },
  {
   "cell_type": "code",
   "execution_count": 2,
   "metadata": {},
   "outputs": [
    {
     "name": "stdout",
     "output_type": "stream",
     "text": [
      "[('the', 6), ('was', 6), ('it', 4), ('of', 3), ('and', 3), (\"wasn't\", 3), ('that', 3), ('just', 2), ('cave', 2), ('regular', 1), ('early', 1), ('morning', 1), ('yell', 1), ('horror', 1), ('sound', 1), ('arthur', 1), ('dent', 1), ('waking', 1), ('up', 1), ('suddenly', 1), ('remembering', 1), ('where', 1), ('he', 1), ('cold', 1), ('damp', 1), ('smelly', 1), ('fact', 1), ('in', 1), ('middle', 1), ('islington', 1), ('there', 1), ('a', 1), ('bus', 1), ('due', 1), ('for', 1), ('two', 1), ('million', 1), ('years', 1)]\n"
     ]
    }
   ],
   "source": [
    "# your code here\n",
    "# <_io.TextIOWrapper name='Restaurant.txt' mode='r' encoding='UTF-8'>\n",
    "mydoc = open('Restaurant.txt', 'r')\n",
    "#print(mydoc.read())\n",
    "#print(mydoc)\n",
    "\n",
    "dict = {}\n",
    "for words in mydoc:\n",
    "    word = words.split()\n",
    "    for each in word:\n",
    "        each = each.strip(\",'.\")\n",
    "        each = each.lower()\n",
    "        if each in dict:\n",
    "            dict[each] += 1   \n",
    "        else:\n",
    "            dict[each] = 1 \n",
    "\n",
    "mydoc.close()\n",
    "import operator\n",
    "sorted_dict = sorted(dict.items(), key = operator.itemgetter(1), reverse = True)\n",
    "print(sorted_dict)"
   ]
  },
  {
   "cell_type": "markdown",
   "metadata": {},
   "source": [
    "What are the three most frequently occuring words? (your answer here) \n",
    "Three most frequent occuring words are 'the', 'was', 'it'.\n"
   ]
  },
  {
   "cell_type": "markdown",
   "metadata": {},
   "source": [
    "Q2. Generate a numpy array of standard normal random numbers with 10000 rows and a 100 columns. Compute a numpy array with the column averages. How many of these values are greater than 0.1?"
   ]
  },
  {
   "cell_type": "code",
   "execution_count": 3,
   "metadata": {},
   "outputs": [
    {
     "name": "stdout",
     "output_type": "stream",
     "text": [
      "[-0.00610028  0.01365265  0.02999714 -0.00197507 -0.00499073  0.01107399\n",
      " -0.00096846  0.01166068  0.01761628  0.0099592   0.00661731  0.00754704\n",
      "  0.0071583   0.00363108 -0.0118439   0.00927944 -0.0015259  -0.01100696\n",
      "  0.01368367 -0.00048737  0.00066695 -0.01226861  0.01188456  0.02115246\n",
      "  0.00053175  0.00778718 -0.00418331  0.00085151  0.0054563   0.0012454\n",
      "  0.00413216  0.01114035  0.00942646 -0.00079185  0.003656    0.0122145\n",
      "  0.0061938   0.02315338  0.00472062 -0.01987548  0.0096839  -0.00535211\n",
      " -0.01392962  0.00340433  0.00358665  0.01452552  0.00526122 -0.00031757\n",
      " -0.0104782   0.00952565  0.0034584  -0.00612942 -0.00404954 -0.00056051\n",
      " -0.01063101  0.0033476   0.00177377  0.00225233  0.00897639  0.00648065\n",
      "  0.00786186 -0.00764645 -0.01676402 -0.00342975 -0.01630901  0.02008469\n",
      "  0.01337922 -0.00314699  0.00624964  0.00627566  0.01403008  0.00800691\n",
      " -0.00994808  0.00220161  0.01625041  0.01386998  0.0018685   0.02069187\n",
      " -0.01253246  0.00807754 -0.00080617  0.00098749 -0.00521261  0.00988617\n",
      "  0.00256413 -0.00691434 -0.00178933  0.00264923  0.0053924  -0.00736877\n",
      "  0.01067304  0.00184403 -0.01924042  0.00811825 -0.00337727 -0.00171063\n",
      " -0.01283959 -0.02168788  0.01016507 -0.00710598]\n",
      "0\n",
      "Number of column averages greater than 0.1: 0\n"
     ]
    }
   ],
   "source": [
    "# your code here\n",
    "# hint: to calculate the number of elements in a vector that are greater than 0.1, use sum(vector>=0.1)\n",
    "# your code here\n",
    "# hint: to calculate the number of elements in a vector that are \n",
    "# greater than 0.1, use sum(vector>=0.1)\n",
    "\n",
    "import numpy as np\n",
    "\n",
    "# generating a 2D numpy array of standard normal random numbers  \n",
    "# with 10000 rows and a 100 columns\n",
    "array = np.random.randn(10000, 100)\n",
    "\n",
    "# computing column averages\n",
    "col_avg = np.mean(array, axis = 0)\n",
    "print(col_avg)\n",
    "\n",
    "# counting how many column averages are greater than 0.1\n",
    "number_of_cols_wanted_form = np.sum(col_avg > 0.1)\n",
    "\n",
    "print(number_of_cols_wanted_form)\n",
    "\n",
    "print(f\"Number of column averages greater than 0.1: {number_of_cols_wanted_form}\")\n"
   ]
  }
 ],
 "metadata": {
  "kernelspec": {
   "display_name": "Python 3 (ipykernel)",
   "language": "python",
   "name": "python3"
  },
  "language_info": {
   "codemirror_mode": {
    "name": "ipython",
    "version": 3
   },
   "file_extension": ".py",
   "mimetype": "text/x-python",
   "name": "python",
   "nbconvert_exporter": "python",
   "pygments_lexer": "ipython3",
   "version": "3.11.4"
  }
 },
 "nbformat": 4,
 "nbformat_minor": 2
}
