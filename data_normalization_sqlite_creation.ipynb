{
 "cells": [
  {
   "cell_type": "markdown",
   "metadata": {},
   "source": [
    "### Q1. Show how the data in the table below can be put into third normal form.\n",
    "\n",
    "#### Only need to give the final output. No need to output some immediate tables that satisfy 1NF or 2NF.\n",
    "\n",
    "#### One teacher can teach mutiple courses.  But each course has only one teacher. \n",
    "\n",
    "| Student Number | Student Name | DoB        | Gender | Course Number            | Course Name                        | TeacherID            | Teacher Name                  |\n",
    "|----------------|--------------|------------|--------|--------------------------|------------------------------------|----------------------|-------------------------------|\n",
    "| 2333           | Bell, K      | 14/01/1998 | M      | COMP23                   | Java1                              | 8563                 | Davey, A                      |\n",
    "| 23333           | Cope, F      | 12/08/1997 | F      | COMP23<br>COMP16<br>G101 | Java1<br>Intro to OOP<br>Animation | 8563<br>2299<br>1567 | Davey, A<br>Ross, M<br>Day, S |\n",
    "| 233333           | Behr, K      | 31/07/1996 | M      | COMP16<br>COMP34         | Intro to OOP<br>Database Design    | 2299<br>3370         | Ross, M<br>Blaine, N          |"
   ]
  },
  {
   "cell_type": "code",
   "execution_count": 4,
   "metadata": {},
   "outputs": [],
   "source": [
    "#### your code here\n"
   ]
  },
  {
   "cell_type": "markdown",
   "metadata": {},
   "source": [
    "| Teacher ID | Teacher Name |\n",
    "|------------|--------------|\n",
    "| 8563       | Davey, A     |\n",
    "| 2299       | Ross, M      |\n",
    "| 1567       | Day, S       |\n",
    "| 3370       | Blaine, N    |\n"
   ]
  },
  {
   "cell_type": "markdown",
   "metadata": {},
   "source": [
    "| Course Number | Course Name     |\n",
    "|---------------|-----------------|\n",
    "| COMP23        | Java1           |\n",
    "| COMP16        | Intro to OOP    |\n",
    "| G101          | Animation       |\n",
    "| COMP34        | Database Design |\n"
   ]
  },
  {
   "cell_type": "markdown",
   "metadata": {},
   "source": [
    "|Student Number|Student Name|Date of Birth| Gender|\n",
    "|--------------|------------|-------------|-------|\n",
    "|2333|Bell, K 14/01/1998|14/1/1998|M|\n",
    "|23333|Cope, F 12/08/1997|12/8/1997|F|\n",
    "|233333|Behr, K 31/07/1996|31/7/1996|M|\n",
    "\n",
    "\n"
   ]
  },
  {
   "cell_type": "markdown",
   "metadata": {},
   "source": [
    "| Teacher ID | Course Number |\n",
    "|------------|---------------|\n",
    "| 8563       | COMP23        |\n",
    "| 2299       | COMP16        |\n",
    "| 1567       | G101          |\n",
    "| 3370       | COMP34        |\n"
   ]
  },
  {
   "cell_type": "markdown",
   "metadata": {},
   "source": [
    "| Student Number | Course Number |\n",
    "|----------------|---------------|\n",
    "| 2333           | COMP23        |\n",
    "| 23333          | COMP23        |\n",
    "| 233333         | COMP16        |\n",
    "| 233333         | COMP34        |\n"
   ]
  },
  {
   "cell_type": "markdown",
   "metadata": {},
   "source": [
    "### Q2. Construct an SQLite database with the following two tables (optional: do an inner join).\n",
    "\n",
    "#### When creating these tables, no need to specify the primary key or foreign key\n",
    "\n",
    "|ProductID|ProductName|Cost|Price|\n",
    "|---------|-----------|----|-----|\n",
    "|123|Small monkey|2.50|5.95|\n",
    "|156|Pink Kitten|3.10|6.00|\n",
    "\n",
    "| ProductID|CompID|CompQty|\n",
    "|----------|------|-------|\n",
    "|123|ST01|30|\n",
    "|123|G56|2|\n",
    "|123|FF77|0.3|\n",
    "|156|ST01|45|\n",
    "|156|G120|2|\n",
    "|156|FF88|0.35|\n",
    "|156|S34|1|"
   ]
  },
  {
   "cell_type": "code",
   "execution_count": 1,
   "metadata": {},
   "outputs": [],
   "source": [
    "import sqlite3 as sq3\n",
    "\n",
    "sq3_file = \"db.product\"\n",
    "db = sq3.connect(sq3_file)\n",
    "\n",
    "with db:\n",
    "    db.execute(\"CREATE TABLE IF NOT EXISTS product(id INT, name TEXT, cost REAL, price REAL)\")\n",
    "    data = [\n",
    "        (123, \"Small monkey\", 2.50, 5.95),\n",
    "        (156, \"Pink Kitten\", 3.10, 6.00 ),        \n",
    "    ]\n",
    "    for d in data:\n",
    "        db.execute(\"INSERT INTO product VALUES (?, ?, ?, ?)\", d)\n",
    "\n",
    "with db:\n",
    "    db.execute(\"CREATE TABLE IF NOT EXISTS comp (id INT, compid TEXT, compqty REAL)\")\n",
    "    data = [\n",
    "        (123, \"ST01\", 30),\n",
    "        (123, \"G56\", 2),\n",
    "        (123, \"FF77\", 0.3),\n",
    "        (156, \"ST01\", 45),\n",
    "        (156, \"G120\", 2),\n",
    "        (156, \"FF88\", 0.35),\n",
    "        (156, \"S34\", 1)\n",
    "    ]\n",
    "    for d in data:\n",
    "        db.execute(\"INSERT INTO comp VALUES (?, ?, ?)\", d)\n",
    "\n",
    "db.commit()\n",
    "db.close()"
   ]
  }
 ],
 "metadata": {
  "kernelspec": {
   "display_name": "Python 3 (ipykernel)",
   "language": "python",
   "name": "python3"
  },
  "language_info": {
   "codemirror_mode": {
    "name": "ipython",
    "version": 3
   },
   "file_extension": ".py",
   "mimetype": "text/x-python",
   "name": "python",
   "nbconvert_exporter": "python",
   "pygments_lexer": "ipython3",
   "version": "3.11.4"
  }
 },
 "nbformat": 4,
 "nbformat_minor": 2
}
